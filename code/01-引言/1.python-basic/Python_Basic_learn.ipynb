{
 "cells": [
  {
   "cell_type": "code",
   "execution_count": 2,
   "id": "b7d73554-50e5-47c5-8b36-d130d600493b",
   "metadata": {},
   "outputs": [
    {
     "name": "stdout",
     "output_type": "stream",
     "text": [
      "hello\n",
      "word\n",
      "!\n"
     ]
    }
   ],
   "source": [
    "c = \"\"\"hello\n",
    "word\n",
    "!\"\"\"\n",
    "print(c)"
   ]
  },
  {
   "cell_type": "code",
   "execution_count": 3,
   "id": "97a6dd5e-dbfb-408a-b013-1f2230ead5c3",
   "metadata": {},
   "outputs": [
    {
     "name": "stdout",
     "output_type": "stream",
     "text": [
      "\\\t\\\n"
     ]
    }
   ],
   "source": [
    "print('\\\\\\t\\\\')"
   ]
  },
  {
   "cell_type": "code",
   "execution_count": 4,
   "id": "e6908e59-b84e-4b58-92d1-e128ba39adb6",
   "metadata": {},
   "outputs": [
    {
     "name": "stdout",
     "output_type": "stream",
     "text": [
      "\\\\\\t\\\\\n"
     ]
    }
   ],
   "source": [
    "print(r'\\\\\\t\\\\')"
   ]
  },
  {
   "cell_type": "code",
   "execution_count": 5,
   "id": "758e7cb0-39a9-4bc7-a7cf-3b742969b643",
   "metadata": {},
   "outputs": [],
   "source": [
    "s = \"Python\""
   ]
  },
  {
   "cell_type": "code",
   "execution_count": 6,
   "id": "87131281-d490-459d-bfcc-7b57e946aa60",
   "metadata": {},
   "outputs": [
    {
     "data": {
      "text/plain": [
       "2.3333333333333335"
      ]
     },
     "execution_count": 6,
     "metadata": {},
     "output_type": "execute_result"
    }
   ],
   "source": [
    "7 / 3"
   ]
  },
  {
   "cell_type": "code",
   "execution_count": 7,
   "id": "396e3032-3279-4834-b4ed-e608747b4fa7",
   "metadata": {},
   "outputs": [
    {
     "data": {
      "text/plain": [
       "2"
      ]
     },
     "execution_count": 7,
     "metadata": {},
     "output_type": "execute_result"
    }
   ],
   "source": [
    "7 // 3"
   ]
  },
  {
   "cell_type": "code",
   "execution_count": 8,
   "id": "bc58f825-bb0b-4d63-a6ac-c62b5d43ad15",
   "metadata": {},
   "outputs": [
    {
     "data": {
      "text/plain": [
       "1"
      ]
     },
     "execution_count": 8,
     "metadata": {},
     "output_type": "execute_result"
    }
   ],
   "source": [
    "7 % 3"
   ]
  },
  {
   "cell_type": "code",
   "execution_count": 9,
   "id": "4d3ad56a-7a57-4672-8573-c1490a115b0a",
   "metadata": {},
   "outputs": [
    {
     "data": {
      "text/plain": [
       "15"
      ]
     },
     "execution_count": 9,
     "metadata": {},
     "output_type": "execute_result"
    }
   ],
   "source": [
    "0b1111"
   ]
  },
  {
   "cell_type": "code",
   "execution_count": 10,
   "id": "57ef09e4-7988-4a3c-a364-596621fa6320",
   "metadata": {},
   "outputs": [
    {
     "data": {
      "text/plain": [
       "255"
      ]
     },
     "execution_count": 10,
     "metadata": {},
     "output_type": "execute_result"
    }
   ],
   "source": [
    "0xff"
   ]
  },
  {
   "cell_type": "code",
   "execution_count": 11,
   "id": "a52cf2c6-5e46-48f6-baa5-764388d72b5b",
   "metadata": {},
   "outputs": [
    {
     "data": {
      "text/plain": [
       "100000.0"
      ]
     },
     "execution_count": 11,
     "metadata": {},
     "output_type": "execute_result"
    }
   ],
   "source": [
    "1e5"
   ]
  },
  {
   "cell_type": "code",
   "execution_count": 13,
   "id": "5f712f9e-7210-4a25-a4fc-214969607e10",
   "metadata": {},
   "outputs": [
    {
     "name": "stdout",
     "output_type": "stream",
     "text": [
      "time.struct_time(tm_year=2024, tm_mon=1, tm_mday=15, tm_hour=0, tm_min=0, tm_sec=0, tm_wday=0, tm_yday=15, tm_isdst=-1)\n"
     ]
    }
   ],
   "source": [
    "import time\n",
    "\n",
    "now = time.strptime('2024-01-15', '%Y-%m-%d')\n",
    "print(now)"
   ]
  },
  {
   "cell_type": "code",
   "execution_count": 14,
   "id": "16216047-947c-4b0e-8b23-9dc8f8f5abdd",
   "metadata": {},
   "outputs": [
    {
     "data": {
      "text/plain": [
       "'2024-01-15'"
      ]
     },
     "execution_count": 14,
     "metadata": {},
     "output_type": "execute_result"
    }
   ],
   "source": [
    "time.strftime('%Y-%m-%d', now)"
   ]
  },
  {
   "cell_type": "code",
   "execution_count": 19,
   "id": "6f574532-20ac-45f0-b775-d82bb5c9f019",
   "metadata": {},
   "outputs": [],
   "source": [
    "import datetime\n",
    "\n",
    "someDay = datetime.date(2023,4,12)\n",
    "anotherDay = datetime.date(2024,1,15)"
   ]
  },
  {
   "cell_type": "code",
   "execution_count": 22,
   "id": "4d73a267-be9b-4294-a4bb-6785c2502879",
   "metadata": {},
   "outputs": [
    {
     "data": {
      "text/plain": [
       "278"
      ]
     },
     "execution_count": 22,
     "metadata": {},
     "output_type": "execute_result"
    }
   ],
   "source": [
    "deltaDay = anotherDay - someDay\n",
    "deltaDay.days"
   ]
  },
  {
   "cell_type": "code",
   "execution_count": 21,
   "id": "9861fec0-bb38-498c-9e1e-16aba7574d6f",
   "metadata": {},
   "outputs": [
    {
     "data": {
      "text/plain": [
       "['__abs__',\n",
       " '__add__',\n",
       " '__bool__',\n",
       " '__class__',\n",
       " '__delattr__',\n",
       " '__dir__',\n",
       " '__divmod__',\n",
       " '__doc__',\n",
       " '__eq__',\n",
       " '__floordiv__',\n",
       " '__format__',\n",
       " '__ge__',\n",
       " '__getattribute__',\n",
       " '__getstate__',\n",
       " '__gt__',\n",
       " '__hash__',\n",
       " '__init__',\n",
       " '__init_subclass__',\n",
       " '__le__',\n",
       " '__lt__',\n",
       " '__mod__',\n",
       " '__mul__',\n",
       " '__ne__',\n",
       " '__neg__',\n",
       " '__new__',\n",
       " '__pos__',\n",
       " '__radd__',\n",
       " '__rdivmod__',\n",
       " '__reduce__',\n",
       " '__reduce_ex__',\n",
       " '__repr__',\n",
       " '__rfloordiv__',\n",
       " '__rmod__',\n",
       " '__rmul__',\n",
       " '__rsub__',\n",
       " '__rtruediv__',\n",
       " '__setattr__',\n",
       " '__sizeof__',\n",
       " '__str__',\n",
       " '__sub__',\n",
       " '__subclasshook__',\n",
       " '__truediv__',\n",
       " 'days',\n",
       " 'max',\n",
       " 'microseconds',\n",
       " 'min',\n",
       " 'resolution',\n",
       " 'seconds',\n",
       " 'total_seconds']"
      ]
     },
     "execution_count": 21,
     "metadata": {},
     "output_type": "execute_result"
    }
   ],
   "source": [
    "dir(deltaDay)"
   ]
  },
  {
   "cell_type": "code",
   "execution_count": 28,
   "id": "0d39a9a4-2bf2-4e79-a09d-bc1a1b446900",
   "metadata": {},
   "outputs": [
    {
     "data": {
      "text/plain": [
       "NoneType"
      ]
     },
     "execution_count": 28,
     "metadata": {},
     "output_type": "execute_result"
    }
   ],
   "source": [
    "type(None)"
   ]
  },
  {
   "cell_type": "code",
   "execution_count": 29,
   "id": "1e6fc459-3cf3-486b-a770-746e7c24288f",
   "metadata": {},
   "outputs": [
    {
     "data": {
      "text/plain": [
       "float"
      ]
     },
     "execution_count": 29,
     "metadata": {},
     "output_type": "execute_result"
    }
   ],
   "source": [
    "type(1.0)"
   ]
  },
  {
   "cell_type": "code",
   "execution_count": 30,
   "id": "0b56a587-1a94-4f8e-8759-e8769cc2137d",
   "metadata": {},
   "outputs": [
    {
     "data": {
      "text/plain": [
       "bool"
      ]
     },
     "execution_count": 30,
     "metadata": {},
     "output_type": "execute_result"
    }
   ],
   "source": [
    "type(True)"
   ]
  },
  {
   "cell_type": "code",
   "execution_count": 31,
   "id": "fc5af8c6-1441-4732-8663-1fb30784c1ae",
   "metadata": {},
   "outputs": [
    {
     "data": {
      "text/plain": [
       "'10010'"
      ]
     },
     "execution_count": 31,
     "metadata": {},
     "output_type": "execute_result"
    }
   ],
   "source": [
    "str(10010)"
   ]
  },
  {
   "cell_type": "code",
   "execution_count": 32,
   "id": "fdd0395d-c1c7-452c-aefd-1adfbd0c0d6e",
   "metadata": {},
   "outputs": [
    {
     "name": "stdout",
     "output_type": "stream",
     "text": [
      "Object `float()` not found.\n"
     ]
    }
   ],
   "source": [
    "?float()"
   ]
  },
  {
   "cell_type": "code",
   "execution_count": 33,
   "id": "29f1c834-2641-4d4c-99b5-4de91defa6bc",
   "metadata": {},
   "outputs": [
    {
     "data": {
      "text/plain": [
       "10010.0"
      ]
     },
     "execution_count": 33,
     "metadata": {},
     "output_type": "execute_result"
    }
   ],
   "source": [
    "float(10010)"
   ]
  },
  {
   "cell_type": "code",
   "execution_count": 34,
   "id": "a4818fb9-2c08-4cdb-8700-5703dab3315c",
   "metadata": {},
   "outputs": [
    {
     "data": {
      "text/plain": [
       "10010"
      ]
     },
     "execution_count": 34,
     "metadata": {},
     "output_type": "execute_result"
    }
   ],
   "source": [
    "int('10010')"
   ]
  },
  {
   "cell_type": "code",
   "execution_count": 35,
   "id": "5c7b869a-5fc5-4291-87e6-a2bd176333fc",
   "metadata": {},
   "outputs": [
    {
     "data": {
      "text/plain": [
       "(10010+0j)"
      ]
     },
     "execution_count": 35,
     "metadata": {},
     "output_type": "execute_result"
    }
   ],
   "source": [
    "complex(10010)"
   ]
  },
  {
   "cell_type": "code",
   "execution_count": 36,
   "id": "a5b5e1d4-fdd9-41e8-9ce1-e58809008dde",
   "metadata": {},
   "outputs": [],
   "source": [
    "mylist = [0, 1, 2, 3, 4, 5]"
   ]
  },
  {
   "cell_type": "code",
   "execution_count": 38,
   "id": "4889cf51-a847-4524-a94b-bf121efa4e97",
   "metadata": {},
   "outputs": [
    {
     "data": {
      "text/plain": [
       "4"
      ]
     },
     "execution_count": 38,
     "metadata": {},
     "output_type": "execute_result"
    }
   ],
   "source": [
    "mylist[4]"
   ]
  },
  {
   "cell_type": "code",
   "execution_count": 39,
   "id": "ea14a51b-375d-4638-aa3c-12dc2d8481e5",
   "metadata": {},
   "outputs": [
    {
     "data": {
      "text/plain": [
       "2"
      ]
     },
     "execution_count": 39,
     "metadata": {},
     "output_type": "execute_result"
    }
   ],
   "source": [
    "mylist[-4]"
   ]
  },
  {
   "cell_type": "code",
   "execution_count": 40,
   "id": "666db932-9edd-4249-b337-182b8b8d1ec5",
   "metadata": {},
   "outputs": [
    {
     "data": {
      "text/plain": [
       "[0, 1, 2, 3]"
      ]
     },
     "execution_count": 40,
     "metadata": {},
     "output_type": "execute_result"
    }
   ],
   "source": [
    "mylist[0:4]"
   ]
  },
  {
   "cell_type": "code",
   "execution_count": 41,
   "id": "58b5c1ac-dfd6-4894-be94-7d744f5363a3",
   "metadata": {},
   "outputs": [
    {
     "data": {
      "text/plain": [
       "[0, 1, 2, 3]"
      ]
     },
     "execution_count": 41,
     "metadata": {},
     "output_type": "execute_result"
    }
   ],
   "source": [
    "mylist[:4]"
   ]
  },
  {
   "cell_type": "code",
   "execution_count": 42,
   "id": "511ca4b1-ecf2-4146-8e23-3e87459c5cde",
   "metadata": {},
   "outputs": [
    {
     "data": {
      "text/plain": [
       "[4, 5]"
      ]
     },
     "execution_count": 42,
     "metadata": {},
     "output_type": "execute_result"
    }
   ],
   "source": [
    "mylist[4:]"
   ]
  },
  {
   "cell_type": "code",
   "execution_count": 43,
   "id": "0ac462f6-ae17-4a3c-9150-88dc158c801a",
   "metadata": {},
   "outputs": [
    {
     "data": {
      "text/plain": [
       "[0, 2]"
      ]
     },
     "execution_count": 43,
     "metadata": {},
     "output_type": "execute_result"
    }
   ],
   "source": [
    "mylist[0:4:2]"
   ]
  },
  {
   "cell_type": "code",
   "execution_count": 44,
   "id": "24a20004-aef7-4fb7-ad2d-5e8ccb1f02f6",
   "metadata": {},
   "outputs": [
    {
     "data": {
      "text/plain": [
       "[1, 2, 3, 4]"
      ]
     },
     "execution_count": 44,
     "metadata": {},
     "output_type": "execute_result"
    }
   ],
   "source": [
    "mylist[-5:-1:]"
   ]
  },
  {
   "cell_type": "code",
   "execution_count": 45,
   "id": "920740f0-f5ba-4671-a8b5-babeffac1300",
   "metadata": {},
   "outputs": [
    {
     "data": {
      "text/plain": [
       "[4, 3, 2, 1, 0]"
      ]
     },
     "execution_count": 45,
     "metadata": {},
     "output_type": "execute_result"
    }
   ],
   "source": [
    "mylist[-2::-1]"
   ]
  },
  {
   "cell_type": "code",
   "execution_count": 46,
   "id": "5aaadec6-1e76-4652-8c6b-f407b025b0ec",
   "metadata": {},
   "outputs": [],
   "source": [
    "mylist[5] = 2024"
   ]
  },
  {
   "cell_type": "code",
   "execution_count": 47,
   "id": "74eb6a18-0ac8-4ba5-a64f-744df8d3e765",
   "metadata": {},
   "outputs": [
    {
     "data": {
      "text/plain": [
       "[0, 1, 2, 3, 4, 2024]"
      ]
     },
     "execution_count": 47,
     "metadata": {},
     "output_type": "execute_result"
    }
   ],
   "source": [
    "mylist"
   ]
  },
  {
   "cell_type": "code",
   "execution_count": 49,
   "id": "122a3d27-0cfa-415e-b718-3a61f42fd1e6",
   "metadata": {},
   "outputs": [],
   "source": [
    "mylist.append(1)"
   ]
  },
  {
   "cell_type": "code",
   "execution_count": 50,
   "id": "c19b358b-cf0f-4867-aeec-318f2b9f8a23",
   "metadata": {},
   "outputs": [
    {
     "data": {
      "text/plain": [
       "[0, 1, 2, 3, 4, 2024, 1]"
      ]
     },
     "execution_count": 50,
     "metadata": {},
     "output_type": "execute_result"
    }
   ],
   "source": [
    "mylist"
   ]
  },
  {
   "cell_type": "code",
   "execution_count": 51,
   "id": "9be8aa9d-aa46-432c-b7c2-f52c09f3cff4",
   "metadata": {},
   "outputs": [],
   "source": [
    "mylist.extend([15, 15])"
   ]
  },
  {
   "cell_type": "code",
   "execution_count": 52,
   "id": "5af8956d-614a-4537-a431-e8336d6b4e1c",
   "metadata": {},
   "outputs": [
    {
     "data": {
      "text/plain": [
       "[0, 1, 2, 3, 4, 2024, 1, 15, 15]"
      ]
     },
     "execution_count": 52,
     "metadata": {},
     "output_type": "execute_result"
    }
   ],
   "source": [
    "mylist"
   ]
  },
  {
   "cell_type": "code",
   "execution_count": 54,
   "id": "024d28fb-1294-4e1c-987c-6011305bc7f1",
   "metadata": {},
   "outputs": [],
   "source": [
    "mylist.insert(1, 15)"
   ]
  },
  {
   "cell_type": "code",
   "execution_count": 55,
   "id": "7ab0252d-ee1b-48cf-8051-a181bac4047b",
   "metadata": {},
   "outputs": [
    {
     "data": {
      "text/plain": [
       "[0, 15, 1, 2, 3, 4, 2024, 1, 15, 15]"
      ]
     },
     "execution_count": 55,
     "metadata": {},
     "output_type": "execute_result"
    }
   ],
   "source": [
    "mylist"
   ]
  },
  {
   "cell_type": "code",
   "execution_count": 56,
   "id": "2d8f4180-aab4-4ba7-b730-3ae599f727ff",
   "metadata": {},
   "outputs": [
    {
     "data": {
      "text/plain": [
       "15"
      ]
     },
     "execution_count": 56,
     "metadata": {},
     "output_type": "execute_result"
    }
   ],
   "source": [
    "mylist.pop(1)"
   ]
  },
  {
   "cell_type": "code",
   "execution_count": 57,
   "id": "b3722a3a-77dd-4770-af1d-3da97ea73da9",
   "metadata": {},
   "outputs": [
    {
     "data": {
      "text/plain": [
       "[0, 1, 2, 3, 4, 2024, 1, 15, 15]"
      ]
     },
     "execution_count": 57,
     "metadata": {},
     "output_type": "execute_result"
    }
   ],
   "source": [
    "mylist"
   ]
  },
  {
   "cell_type": "code",
   "execution_count": 58,
   "id": "2358a570-7eff-4f2e-ae97-8a0af78817ad",
   "metadata": {},
   "outputs": [
    {
     "data": {
      "text/plain": [
       "False"
      ]
     },
     "execution_count": 58,
     "metadata": {},
     "output_type": "execute_result"
    }
   ],
   "source": [
    "2014 in mylist"
   ]
  },
  {
   "cell_type": "code",
   "execution_count": 59,
   "id": "d9f6dfa4-2e38-4555-a602-c05f1d270b98",
   "metadata": {},
   "outputs": [
    {
     "data": {
      "text/plain": [
       "True"
      ]
     },
     "execution_count": 59,
     "metadata": {},
     "output_type": "execute_result"
    }
   ],
   "source": [
    "2024 in mylist"
   ]
  },
  {
   "cell_type": "code",
   "execution_count": 60,
   "id": "710010f7-3b0b-4994-83e4-1b8bf0ad03ab",
   "metadata": {},
   "outputs": [
    {
     "data": {
      "text/plain": [
       "1"
      ]
     },
     "execution_count": 60,
     "metadata": {},
     "output_type": "execute_result"
    }
   ],
   "source": [
    "mylist.count(2024)"
   ]
  },
  {
   "cell_type": "code",
   "execution_count": 61,
   "id": "749a268d-a54e-4541-b3e6-6599e58b9b45",
   "metadata": {},
   "outputs": [
    {
     "data": {
      "text/plain": [
       "5"
      ]
     },
     "execution_count": 61,
     "metadata": {},
     "output_type": "execute_result"
    }
   ],
   "source": [
    "mylist.index(2024)"
   ]
  },
  {
   "cell_type": "code",
   "execution_count": 62,
   "id": "b815893f-6236-4ee0-ae9c-0429a509e5ab",
   "metadata": {},
   "outputs": [],
   "source": [
    "myset = set(mylist)"
   ]
  },
  {
   "cell_type": "code",
   "execution_count": 63,
   "id": "f608f07e-9b82-4918-bc75-03aa99363098",
   "metadata": {},
   "outputs": [
    {
     "data": {
      "text/plain": [
       "{0, 1, 2, 3, 4, 15, 2024}"
      ]
     },
     "execution_count": 63,
     "metadata": {},
     "output_type": "execute_result"
    }
   ],
   "source": [
    "myset"
   ]
  },
  {
   "cell_type": "code",
   "execution_count": 64,
   "id": "2fbcc2bb-b12f-4176-aab5-cb30d66fa144",
   "metadata": {},
   "outputs": [],
   "source": [
    "myset.add(\"15\")"
   ]
  },
  {
   "cell_type": "code",
   "execution_count": 65,
   "id": "d4e49223-b4de-4d86-a4e2-298dae112bac",
   "metadata": {},
   "outputs": [
    {
     "data": {
      "text/plain": [
       "{0, 1, 15, '15', 2, 2024, 3, 4}"
      ]
     },
     "execution_count": 65,
     "metadata": {},
     "output_type": "execute_result"
    }
   ],
   "source": [
    "myset"
   ]
  },
  {
   "cell_type": "code",
   "execution_count": 66,
   "id": "f61cc284-9277-4033-b06c-8a17564b4d77",
   "metadata": {},
   "outputs": [],
   "source": [
    "myset.remove(\"15\")"
   ]
  },
  {
   "cell_type": "code",
   "execution_count": 67,
   "id": "b62c2ced-7cdb-43bb-b9c4-a1f7131b87bb",
   "metadata": {},
   "outputs": [
    {
     "data": {
      "text/plain": [
       "{0, 1, 2, 3, 4, 15, 2024}"
      ]
     },
     "execution_count": 67,
     "metadata": {},
     "output_type": "execute_result"
    }
   ],
   "source": [
    "myset"
   ]
  },
  {
   "cell_type": "code",
   "execution_count": 69,
   "id": "ef68da2e-76e7-4b99-8d93-911cf6721957",
   "metadata": {},
   "outputs": [
    {
     "data": {
      "text/plain": [
       "{'a', 'b', 'c', 'd'}"
      ]
     },
     "execution_count": 69,
     "metadata": {},
     "output_type": "execute_result"
    }
   ],
   "source": [
    "a = set(\"aaabbbcccdd\")\n",
    "a"
   ]
  },
  {
   "cell_type": "code",
   "execution_count": 70,
   "id": "b98fc5e8-f2eb-4ae2-b5e8-ec0a88d491cd",
   "metadata": {},
   "outputs": [
    {
     "data": {
      "text/plain": [
       "{'c', 'd', 'e', 'f'}"
      ]
     },
     "execution_count": 70,
     "metadata": {},
     "output_type": "execute_result"
    }
   ],
   "source": [
    "b = set(\"cccdddeeefff\")\n",
    "b"
   ]
  },
  {
   "cell_type": "code",
   "execution_count": 71,
   "id": "546ef2ad-40d8-4a14-b2b3-1e89f457ed01",
   "metadata": {},
   "outputs": [
    {
     "data": {
      "text/plain": [
       "{'c', 'd'}"
      ]
     },
     "execution_count": 71,
     "metadata": {},
     "output_type": "execute_result"
    }
   ],
   "source": [
    "a & b"
   ]
  },
  {
   "cell_type": "code",
   "execution_count": 72,
   "id": "389c16db-0098-4b0c-9f14-f33df9e1882b",
   "metadata": {},
   "outputs": [
    {
     "data": {
      "text/plain": [
       "{'a', 'b', 'c', 'd', 'e', 'f'}"
      ]
     },
     "execution_count": 72,
     "metadata": {},
     "output_type": "execute_result"
    }
   ],
   "source": [
    "a | b"
   ]
  },
  {
   "cell_type": "code",
   "execution_count": 73,
   "id": "913b280d-3dc9-4013-a8e0-77b7ba2e0497",
   "metadata": {},
   "outputs": [
    {
     "data": {
      "text/plain": [
       "{'a', 'b'}"
      ]
     },
     "execution_count": 73,
     "metadata": {},
     "output_type": "execute_result"
    }
   ],
   "source": [
    "a - b"
   ]
  },
  {
   "cell_type": "code",
   "execution_count": 74,
   "id": "9e5cd2da-9ad7-4e9f-aa69-c2115b3f7bb9",
   "metadata": {},
   "outputs": [],
   "source": [
    "k = {\"name\":\"weiwei\", \"home\":\"guilin\"}"
   ]
  },
  {
   "cell_type": "code",
   "execution_count": 75,
   "id": "4d73fbd1-e884-4279-bed0-cabab2726f4b",
   "metadata": {},
   "outputs": [
    {
     "data": {
      "text/plain": [
       "{'name': 'weiwei', 'home': 'guilin'}"
      ]
     },
     "execution_count": 75,
     "metadata": {},
     "output_type": "execute_result"
    }
   ],
   "source": [
    "k"
   ]
  },
  {
   "cell_type": "code",
   "execution_count": 77,
   "id": "5c82e148-018e-4079-a670-e9719f2cfad3",
   "metadata": {},
   "outputs": [
    {
     "data": {
      "text/plain": [
       "'weiwei'"
      ]
     },
     "execution_count": 77,
     "metadata": {},
     "output_type": "execute_result"
    }
   ],
   "source": [
    "k.get(\"name\")"
   ]
  },
  {
   "cell_type": "code",
   "execution_count": 76,
   "id": "fcca5e3a-a89d-43ae-93dc-2474f67a68ff",
   "metadata": {},
   "outputs": [],
   "source": [
    "k.get(\"edu\")"
   ]
  },
  {
   "cell_type": "code",
   "execution_count": 78,
   "id": "d3bc904e-bdfb-41f6-960d-04bcec4743af",
   "metadata": {},
   "outputs": [
    {
     "data": {
      "text/plain": [
       "-1"
      ]
     },
     "execution_count": 78,
     "metadata": {},
     "output_type": "execute_result"
    }
   ],
   "source": [
    "k.get(\"edu\", -1)"
   ]
  },
  {
   "cell_type": "code",
   "execution_count": 79,
   "id": "768a6702-a90e-4996-a875-80fa76f326f6",
   "metadata": {},
   "outputs": [
    {
     "data": {
      "text/plain": [
       "'weiwei'"
      ]
     },
     "execution_count": 79,
     "metadata": {},
     "output_type": "execute_result"
    }
   ],
   "source": [
    "k.pop(\"name\")"
   ]
  },
  {
   "cell_type": "code",
   "execution_count": 80,
   "id": "871c45f3-e832-4593-a187-ac9f0d1c658f",
   "metadata": {},
   "outputs": [
    {
     "data": {
      "text/plain": [
       "{'home': 'guilin'}"
      ]
     },
     "execution_count": 80,
     "metadata": {},
     "output_type": "execute_result"
    }
   ],
   "source": [
    "k"
   ]
  },
  {
   "cell_type": "code",
   "execution_count": 81,
   "id": "10ab6fd1-999d-4ef7-ba3a-4358bf283dc7",
   "metadata": {},
   "outputs": [],
   "source": [
    "zl = zip(('A', 'B', 'C'), [1, 2, 3, 4])"
   ]
  },
  {
   "cell_type": "code",
   "execution_count": 82,
   "id": "f656fc2b-4af6-4a0d-9dc3-b77d9d42e4af",
   "metadata": {},
   "outputs": [
    {
     "data": {
      "text/plain": [
       "<zip at 0x7fac19ffb5c0>"
      ]
     },
     "execution_count": 82,
     "metadata": {},
     "output_type": "execute_result"
    }
   ],
   "source": [
    "zl"
   ]
  },
  {
   "cell_type": "code",
   "execution_count": 83,
   "id": "ca6cff9d-fbbf-4069-bbf6-df0626933651",
   "metadata": {},
   "outputs": [
    {
     "data": {
      "text/plain": [
       "{'A': 1, 'B': 2, 'C': 3}"
      ]
     },
     "execution_count": 83,
     "metadata": {},
     "output_type": "execute_result"
    }
   ],
   "source": [
    "dict(zl)"
   ]
  },
  {
   "cell_type": "code",
   "execution_count": 84,
   "id": "f105f629-5c5f-47cb-9583-8cf040d8cfd5",
   "metadata": {},
   "outputs": [],
   "source": [
    "fruits = ['\"Apple', 'Watermelon', '\"Banana\"']"
   ]
  },
  {
   "cell_type": "code",
   "execution_count": 85,
   "id": "2810b738-031c-496f-b49e-177919551699",
   "metadata": {},
   "outputs": [
    {
     "data": {
      "text/plain": [
       "['Apple', 'Watermelon', 'Banana']"
      ]
     },
     "execution_count": 85,
     "metadata": {},
     "output_type": "execute_result"
    }
   ],
   "source": [
    "[x.strip('\"') for x in fruits]"
   ]
  },
  {
   "cell_type": "code",
   "execution_count": 88,
   "id": "501ab0aa-fa31-4b7b-8085-c0de9add4a5d",
   "metadata": {},
   "outputs": [
    {
     "data": {
      "text/plain": [
       "1"
      ]
     },
     "execution_count": 88,
     "metadata": {},
     "output_type": "execute_result"
    }
   ],
   "source": [
    "1%2"
   ]
  },
  {
   "cell_type": "code",
   "execution_count": 89,
   "id": "f9c41c65-d491-445d-bfc2-ca7c1f00a585",
   "metadata": {},
   "outputs": [
    {
     "data": {
      "text/plain": [
       "[1, 9, 25, 49, 81, 121, 169, 225, 289, 361]"
      ]
     },
     "execution_count": 89,
     "metadata": {},
     "output_type": "execute_result"
    }
   ],
   "source": [
    "[x**2 for x in range(21) if x%2]"
   ]
  },
  {
   "cell_type": "code",
   "execution_count": 90,
   "id": "9d9664cd-e525-457c-b0a0-d622ae3ccefe",
   "metadata": {},
   "outputs": [
    {
     "data": {
      "text/plain": [
       "['AX', 'AY', 'AZ', 'BX', 'BY', 'BZ', 'CX', 'CY', 'CZ']"
      ]
     },
     "execution_count": 90,
     "metadata": {},
     "output_type": "execute_result"
    }
   ],
   "source": [
    "[m+n for m in \"ABC\" for n in \"XYZ\"]"
   ]
  },
  {
   "cell_type": "code",
   "execution_count": 91,
   "id": "0d720250-c316-491e-8e4d-cc861db98e5b",
   "metadata": {},
   "outputs": [
    {
     "data": {
      "text/plain": [
       "['x=A', 'y=B', 'z=C']"
      ]
     },
     "execution_count": 91,
     "metadata": {},
     "output_type": "execute_result"
    }
   ],
   "source": [
    "d = {'x': 'A', 'y': 'B', 'z': 'C' }\n",
    "[k + '=' + v for k, v in d.items()]"
   ]
  },
  {
   "cell_type": "code",
   "execution_count": 92,
   "id": "8f3ef3f3-3d95-496c-a274-884c7176bf27",
   "metadata": {},
   "outputs": [],
   "source": [
    "myfunc = abs"
   ]
  },
  {
   "cell_type": "code",
   "execution_count": 93,
   "id": "685251a6-ae79-4c09-8761-b6162b404fe6",
   "metadata": {},
   "outputs": [
    {
     "data": {
      "text/plain": [
       "9"
      ]
     },
     "execution_count": 93,
     "metadata": {},
     "output_type": "execute_result"
    }
   ],
   "source": [
    "myfunc(-9)"
   ]
  },
  {
   "cell_type": "code",
   "execution_count": 94,
   "id": "abccddbe-aa74-495f-8f01-d4b660ae1dc1",
   "metadata": {},
   "outputs": [],
   "source": [
    "def add(x,y, f):\n",
    "    return f(x) + f(y)"
   ]
  },
  {
   "cell_type": "code",
   "execution_count": 95,
   "id": "3649c85f-8944-4173-9740-1772acdaf95b",
   "metadata": {},
   "outputs": [
    {
     "data": {
      "text/plain": [
       "12"
      ]
     },
     "execution_count": 95,
     "metadata": {},
     "output_type": "execute_result"
    }
   ],
   "source": [
    "add(7, -5, myfunc)"
   ]
  },
  {
   "cell_type": "code",
   "execution_count": 96,
   "id": "8e602199-1828-4524-91df-bf8b44a8df7f",
   "metadata": {},
   "outputs": [
    {
     "data": {
      "text/plain": [
       "<map at 0x7fac302d71c0>"
      ]
     },
     "execution_count": 96,
     "metadata": {},
     "output_type": "execute_result"
    }
   ],
   "source": [
    "mylist = [-1, 2, -3, 4]\n",
    "map(abs, mylist)"
   ]
  },
  {
   "cell_type": "code",
   "execution_count": 100,
   "id": "abb6c768-5c0c-4edd-aaef-57694aa74bcc",
   "metadata": {},
   "outputs": [
    {
     "name": "stdout",
     "output_type": "stream",
     "text": [
      "1\n",
      "2\n",
      "3\n",
      "4\n"
     ]
    }
   ],
   "source": [
    "for i in map(abs, mylist):\n",
    "    print(i)"
   ]
  },
  {
   "cell_type": "code",
   "execution_count": 101,
   "id": "fdfb9b63-8668-42d4-9992-6a76e25d6c8c",
   "metadata": {},
   "outputs": [],
   "source": [
    "from functools import reduce\n",
    "def powerAdd(a, b):\n",
    "    return pow(a, 2) + pow(b, 2)"
   ]
  },
  {
   "cell_type": "code",
   "execution_count": 102,
   "id": "02f9c5f3-0802-4f2b-a7f4-57f62f75e080",
   "metadata": {},
   "outputs": [
    {
     "data": {
      "text/plain": [
       "1172"
      ]
     },
     "execution_count": 102,
     "metadata": {},
     "output_type": "execute_result"
    }
   ],
   "source": [
    "reduce(powerAdd, mylist)"
   ]
  },
  {
   "cell_type": "code",
   "execution_count": 103,
   "id": "f6b3d6f0-aea3-4fbc-8a96-9146aa3512e2",
   "metadata": {},
   "outputs": [],
   "source": [
    "def is_odd(x):\n",
    "    return x%2"
   ]
  },
  {
   "cell_type": "code",
   "execution_count": 104,
   "id": "379821aa-b65e-4cb8-94ca-54360acde7f0",
   "metadata": {},
   "outputs": [
    {
     "name": "stdout",
     "output_type": "stream",
     "text": [
      "-1\n",
      "-3\n"
     ]
    }
   ],
   "source": [
    "for i in filter(is_odd, mylist):\n",
    "    print(i)"
   ]
  },
  {
   "cell_type": "code",
   "execution_count": 105,
   "id": "d68097b3-2bf8-4f97-beab-5a4c6f246ea7",
   "metadata": {},
   "outputs": [],
   "source": [
    "def powAdd(x, y):\n",
    "    def power(n):\n",
    "        return pow(x, n) + pow(y, n)\n",
    "    return power"
   ]
  },
  {
   "cell_type": "code",
   "execution_count": 106,
   "id": "da598689-6e4a-4876-b495-ad1f6fdd9d94",
   "metadata": {},
   "outputs": [],
   "source": [
    "myf = powAdd(3, 4)"
   ]
  },
  {
   "cell_type": "code",
   "execution_count": 107,
   "id": "13461e9a-2d19-44f6-af68-4df8961e231b",
   "metadata": {},
   "outputs": [
    {
     "data": {
      "text/plain": [
       "25"
      ]
     },
     "execution_count": 107,
     "metadata": {},
     "output_type": "execute_result"
    }
   ],
   "source": [
    "myf(2)"
   ]
  },
  {
   "cell_type": "code",
   "execution_count": 108,
   "id": "c2c8dd81-25cf-4fdb-9bf0-72a1d028b211",
   "metadata": {},
   "outputs": [],
   "source": [
    "f = lambda x: x*x"
   ]
  },
  {
   "cell_type": "code",
   "execution_count": 109,
   "id": "d9f4b230-c6f6-4897-92cf-a3353199854c",
   "metadata": {},
   "outputs": [
    {
     "data": {
      "text/plain": [
       "16"
      ]
     },
     "execution_count": 109,
     "metadata": {},
     "output_type": "execute_result"
    }
   ],
   "source": [
    "f(4)"
   ]
  },
  {
   "cell_type": "code",
   "execution_count": 110,
   "id": "947f8fa6-15e6-4023-88b0-35afa0ded59c",
   "metadata": {},
   "outputs": [
    {
     "name": "stdout",
     "output_type": "stream",
     "text": [
      "1\n",
      "4\n",
      "9\n",
      "16\n"
     ]
    }
   ],
   "source": [
    "for i in map(lambda x: x*x, mylist):\n",
    "    print(i)"
   ]
  }
 ],
 "metadata": {
  "kernelspec": {
   "display_name": "Python 3 (ipykernel)",
   "language": "python",
   "name": "python3"
  },
  "language_info": {
   "codemirror_mode": {
    "name": "ipython",
    "version": 3
   },
   "file_extension": ".py",
   "mimetype": "text/x-python",
   "name": "python",
   "nbconvert_exporter": "python",
   "pygments_lexer": "ipython3",
   "version": "3.11.7"
  }
 },
 "nbformat": 4,
 "nbformat_minor": 5
}
